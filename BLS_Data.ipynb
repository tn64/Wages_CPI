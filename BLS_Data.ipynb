{
 "cells": [
  {
   "cell_type": "code",
   "execution_count": 1,
   "id": "a24f33ff",
   "metadata": {},
   "outputs": [
    {
     "name": "stdout",
     "output_type": "stream",
     "text": [
      "Requirement already satisfied: bls in /opt/anaconda3/envs/PythonData/lib/python3.7/site-packages (0.3.0)\n",
      "Requirement already satisfied: pandas in /opt/anaconda3/envs/PythonData/lib/python3.7/site-packages (from bls) (1.3.4)\n",
      "Requirement already satisfied: requests in /opt/anaconda3/envs/PythonData/lib/python3.7/site-packages (from bls) (2.26.0)\n",
      "Requirement already satisfied: python-dateutil>=2.7.3 in /opt/anaconda3/envs/PythonData/lib/python3.7/site-packages (from pandas->bls) (2.8.2)\n",
      "Requirement already satisfied: pytz>=2017.3 in /opt/anaconda3/envs/PythonData/lib/python3.7/site-packages (from pandas->bls) (2021.3)\n",
      "Requirement already satisfied: numpy>=1.17.3 in /opt/anaconda3/envs/PythonData/lib/python3.7/site-packages (from pandas->bls) (1.21.4)\n",
      "Requirement already satisfied: six>=1.5 in /opt/anaconda3/envs/PythonData/lib/python3.7/site-packages (from python-dateutil>=2.7.3->pandas->bls) (1.16.0)\n",
      "Requirement already satisfied: urllib3<1.27,>=1.21.1 in /opt/anaconda3/envs/PythonData/lib/python3.7/site-packages (from requests->bls) (1.26.7)\n",
      "Requirement already satisfied: charset-normalizer~=2.0.0 in /opt/anaconda3/envs/PythonData/lib/python3.7/site-packages (from requests->bls) (2.0.7)\n",
      "Requirement already satisfied: idna<4,>=2.5 in /opt/anaconda3/envs/PythonData/lib/python3.7/site-packages (from requests->bls) (3.3)\n",
      "Requirement already satisfied: certifi>=2017.4.17 in /opt/anaconda3/envs/PythonData/lib/python3.7/site-packages (from requests->bls) (2021.10.8)\n",
      "Note: you may need to restart the kernel to use updated packages.\n"
     ]
    }
   ],
   "source": [
    "pip install bls"
   ]
  },
  {
   "cell_type": "code",
   "execution_count": 2,
   "id": "ca5f462e",
   "metadata": {},
   "outputs": [],
   "source": [
    "# export BLS_API_KEY=7b14d5fe17554c16863bf3617a831ec5"
   ]
  },
  {
   "cell_type": "code",
   "execution_count": 3,
   "id": "bdf2f952",
   "metadata": {},
   "outputs": [],
   "source": [
    "# Import dependencies\n",
    "import pandas as pd\n",
    "import matplotlib as plt\n",
    "import numpy as np\n",
    "import bls\n"
   ]
  },
  {
   "cell_type": "code",
   "execution_count": 4,
   "id": "55f784c3",
   "metadata": {},
   "outputs": [
    {
     "data": {
      "text/plain": [
       "date\n",
       "2012Q1    1.9\n",
       "2012Q2    1.8\n",
       "2012Q3    1.8\n",
       "2012Q4    1.7\n",
       "2013Q1    1.7\n",
       "Freq: Q-DEC, Name: CIU2020000000000A, dtype: float64"
      ]
     },
     "execution_count": 4,
     "metadata": {},
     "output_type": "execute_result"
    }
   ],
   "source": [
    "#Get Wages data from CPI\n",
    "wages = bls.get_series('CIU2020000000000A')\n",
    "wages.head()"
   ]
  },
  {
   "cell_type": "code",
   "execution_count": 5,
   "id": "d6968ffa",
   "metadata": {},
   "outputs": [
    {
     "data": {
      "text/html": [
       "<div>\n",
       "<style scoped>\n",
       "    .dataframe tbody tr th:only-of-type {\n",
       "        vertical-align: middle;\n",
       "    }\n",
       "\n",
       "    .dataframe tbody tr th {\n",
       "        vertical-align: top;\n",
       "    }\n",
       "\n",
       "    .dataframe thead th {\n",
       "        text-align: right;\n",
       "    }\n",
       "</style>\n",
       "<table border=\"1\" class=\"dataframe\">\n",
       "  <thead>\n",
       "    <tr style=\"text-align: right;\">\n",
       "      <th></th>\n",
       "      <th>Date</th>\n",
       "      <th>CPI</th>\n",
       "    </tr>\n",
       "  </thead>\n",
       "  <tbody>\n",
       "    <tr>\n",
       "      <th>0</th>\n",
       "      <td>2012-01</td>\n",
       "      <td>226.665</td>\n",
       "    </tr>\n",
       "    <tr>\n",
       "      <th>1</th>\n",
       "      <td>2012-02</td>\n",
       "      <td>227.663</td>\n",
       "    </tr>\n",
       "    <tr>\n",
       "      <th>2</th>\n",
       "      <td>2012-03</td>\n",
       "      <td>229.392</td>\n",
       "    </tr>\n",
       "    <tr>\n",
       "      <th>3</th>\n",
       "      <td>2012-04</td>\n",
       "      <td>230.085</td>\n",
       "    </tr>\n",
       "    <tr>\n",
       "      <th>4</th>\n",
       "      <td>2012-05</td>\n",
       "      <td>229.815</td>\n",
       "    </tr>\n",
       "    <tr>\n",
       "      <th>...</th>\n",
       "      <td>...</td>\n",
       "      <td>...</td>\n",
       "    </tr>\n",
       "    <tr>\n",
       "      <th>113</th>\n",
       "      <td>2021-06</td>\n",
       "      <td>271.696</td>\n",
       "    </tr>\n",
       "    <tr>\n",
       "      <th>114</th>\n",
       "      <td>2021-07</td>\n",
       "      <td>273.003</td>\n",
       "    </tr>\n",
       "    <tr>\n",
       "      <th>115</th>\n",
       "      <td>2021-08</td>\n",
       "      <td>273.567</td>\n",
       "    </tr>\n",
       "    <tr>\n",
       "      <th>116</th>\n",
       "      <td>2021-09</td>\n",
       "      <td>274.310</td>\n",
       "    </tr>\n",
       "    <tr>\n",
       "      <th>117</th>\n",
       "      <td>2021-10</td>\n",
       "      <td>276.589</td>\n",
       "    </tr>\n",
       "  </tbody>\n",
       "</table>\n",
       "<p>118 rows × 2 columns</p>\n",
       "</div>"
      ],
      "text/plain": [
       "        Date      CPI\n",
       "0    2012-01  226.665\n",
       "1    2012-02  227.663\n",
       "2    2012-03  229.392\n",
       "3    2012-04  230.085\n",
       "4    2012-05  229.815\n",
       "..       ...      ...\n",
       "113  2021-06  271.696\n",
       "114  2021-07  273.003\n",
       "115  2021-08  273.567\n",
       "116  2021-09  274.310\n",
       "117  2021-10  276.589\n",
       "\n",
       "[118 rows x 2 columns]"
      ]
     },
     "execution_count": 5,
     "metadata": {},
     "output_type": "execute_result"
    }
   ],
   "source": [
    "# Get CPI data from BLS\n",
    "cpi = bls.get_series('CUUR0000SA0')\n",
    "cpi.to_csv('cpi_data.csv')\n",
    "cpi_data = pd.read_csv('cpi_data.csv')\n",
    "cpi_data.columns = 'Date', \"CPI\"\n",
    "cpi_data"
   ]
  },
  {
   "cell_type": "code",
   "execution_count": 6,
   "id": "104630ad",
   "metadata": {},
   "outputs": [
    {
     "data": {
      "text/plain": [
       "0      2012-01\n",
       "1      2012-02\n",
       "2       2012Q1\n",
       "3      2012-04\n",
       "4      2012-05\n",
       "        ...   \n",
       "113     2021Q2\n",
       "114    2021-07\n",
       "115    2021-08\n",
       "116     2021Q3\n",
       "117    2021-10\n",
       "Name: Date, Length: 118, dtype: object"
      ]
     },
     "execution_count": 6,
     "metadata": {},
     "output_type": "execute_result"
    }
   ],
   "source": [
    "# Replace Mar, Jun, Sept, Dec with Qtr\n",
    "cpi_data['Date'] = cpi_data['Date'].str.replace('-03', 'Q1')\n",
    "cpi_data['Date'] = cpi_data['Date'].str.replace('-06', 'Q2')\n",
    "cpi_data['Date'] = cpi_data['Date'].str.replace('-09', 'Q3')\n",
    "cpi_data['Date'] = cpi_data['Date'].str.replace('-12', 'Q4')\n",
    "cpi_data[\"Date\"]"
   ]
  },
  {
   "cell_type": "code",
   "execution_count": 7,
   "id": "37b0b747",
   "metadata": {},
   "outputs": [
    {
     "data": {
      "text/html": [
       "<div>\n",
       "<style scoped>\n",
       "    .dataframe tbody tr th:only-of-type {\n",
       "        vertical-align: middle;\n",
       "    }\n",
       "\n",
       "    .dataframe tbody tr th {\n",
       "        vertical-align: top;\n",
       "    }\n",
       "\n",
       "    .dataframe thead th {\n",
       "        text-align: right;\n",
       "    }\n",
       "</style>\n",
       "<table border=\"1\" class=\"dataframe\">\n",
       "  <thead>\n",
       "    <tr style=\"text-align: right;\">\n",
       "      <th></th>\n",
       "      <th>Date</th>\n",
       "      <th>CPI</th>\n",
       "    </tr>\n",
       "  </thead>\n",
       "  <tbody>\n",
       "    <tr>\n",
       "      <th>2</th>\n",
       "      <td>2012Q1</td>\n",
       "      <td>229.392</td>\n",
       "    </tr>\n",
       "    <tr>\n",
       "      <th>5</th>\n",
       "      <td>2012Q2</td>\n",
       "      <td>229.478</td>\n",
       "    </tr>\n",
       "    <tr>\n",
       "      <th>8</th>\n",
       "      <td>2012Q3</td>\n",
       "      <td>231.407</td>\n",
       "    </tr>\n",
       "    <tr>\n",
       "      <th>11</th>\n",
       "      <td>2012Q4</td>\n",
       "      <td>229.601</td>\n",
       "    </tr>\n",
       "    <tr>\n",
       "      <th>14</th>\n",
       "      <td>2013Q1</td>\n",
       "      <td>232.773</td>\n",
       "    </tr>\n",
       "  </tbody>\n",
       "</table>\n",
       "</div>"
      ],
      "text/plain": [
       "      Date      CPI\n",
       "2   2012Q1  229.392\n",
       "5   2012Q2  229.478\n",
       "8   2012Q3  231.407\n",
       "11  2012Q4  229.601\n",
       "14  2013Q1  232.773"
      ]
     },
     "execution_count": 7,
     "metadata": {},
     "output_type": "execute_result"
    }
   ],
   "source": [
    "# Get only quarterly info\n",
    "newcpi_data = cpi_data[(cpi_data.Date.str.contains(\"-\")==False)]\n",
    "newcpi_data.head()"
   ]
  },
  {
   "cell_type": "code",
   "execution_count": 8,
   "id": "5e9fb07d",
   "metadata": {},
   "outputs": [],
   "source": [
    "# Write this data to CSV file\n",
    "newcpi_data.to_csv('cpi-clean.csv')"
   ]
  },
  {
   "cell_type": "code",
   "execution_count": 9,
   "id": "d66548e8",
   "metadata": {},
   "outputs": [
    {
     "data": {
      "text/html": [
       "<div>\n",
       "<style scoped>\n",
       "    .dataframe tbody tr th:only-of-type {\n",
       "        vertical-align: middle;\n",
       "    }\n",
       "\n",
       "    .dataframe tbody tr th {\n",
       "        vertical-align: top;\n",
       "    }\n",
       "\n",
       "    .dataframe thead th {\n",
       "        text-align: right;\n",
       "    }\n",
       "</style>\n",
       "<table border=\"1\" class=\"dataframe\">\n",
       "  <thead>\n",
       "    <tr style=\"text-align: right;\">\n",
       "      <th></th>\n",
       "      <th>Date</th>\n",
       "      <th>Wages</th>\n",
       "    </tr>\n",
       "  </thead>\n",
       "  <tbody>\n",
       "    <tr>\n",
       "      <th>0</th>\n",
       "      <td>2012Q1</td>\n",
       "      <td>1.9</td>\n",
       "    </tr>\n",
       "    <tr>\n",
       "      <th>1</th>\n",
       "      <td>2012Q2</td>\n",
       "      <td>1.8</td>\n",
       "    </tr>\n",
       "    <tr>\n",
       "      <th>2</th>\n",
       "      <td>2012Q3</td>\n",
       "      <td>1.8</td>\n",
       "    </tr>\n",
       "    <tr>\n",
       "      <th>3</th>\n",
       "      <td>2012Q4</td>\n",
       "      <td>1.7</td>\n",
       "    </tr>\n",
       "    <tr>\n",
       "      <th>4</th>\n",
       "      <td>2013Q1</td>\n",
       "      <td>1.7</td>\n",
       "    </tr>\n",
       "  </tbody>\n",
       "</table>\n",
       "</div>"
      ],
      "text/plain": [
       "     Date  Wages\n",
       "0  2012Q1    1.9\n",
       "1  2012Q2    1.8\n",
       "2  2012Q3    1.8\n",
       "3  2012Q4    1.7\n",
       "4  2013Q1    1.7"
      ]
     },
     "execution_count": 9,
     "metadata": {},
     "output_type": "execute_result"
    }
   ],
   "source": [
    "wages = bls.get_series('CIU2020000000000A')\n",
    "wages.to_csv(\"bls_wages_data.csv\")\n",
    "df = pd.read_csv('bls_wages_data.csv')\n",
    "df.columns = 'Date', 'Wages'\n",
    "df.head()"
   ]
  },
  {
   "cell_type": "code",
   "execution_count": 10,
   "id": "626705cd",
   "metadata": {},
   "outputs": [
    {
     "data": {
      "text/html": [
       "<div>\n",
       "<style scoped>\n",
       "    .dataframe tbody tr th:only-of-type {\n",
       "        vertical-align: middle;\n",
       "    }\n",
       "\n",
       "    .dataframe tbody tr th {\n",
       "        vertical-align: top;\n",
       "    }\n",
       "\n",
       "    .dataframe thead th {\n",
       "        text-align: right;\n",
       "    }\n",
       "</style>\n",
       "<table border=\"1\" class=\"dataframe\">\n",
       "  <thead>\n",
       "    <tr style=\"text-align: right;\">\n",
       "      <th></th>\n",
       "      <th>Date</th>\n",
       "      <th>Wages</th>\n",
       "    </tr>\n",
       "  </thead>\n",
       "  <tbody>\n",
       "    <tr>\n",
       "      <th>0</th>\n",
       "      <td>2012Q1</td>\n",
       "      <td>230.481612</td>\n",
       "    </tr>\n",
       "    <tr>\n",
       "      <th>1</th>\n",
       "      <td>2012Q2</td>\n",
       "      <td>231.518779</td>\n",
       "    </tr>\n",
       "    <tr>\n",
       "      <th>2</th>\n",
       "      <td>2012Q3</td>\n",
       "      <td>232.560614</td>\n",
       "    </tr>\n",
       "    <tr>\n",
       "      <th>3</th>\n",
       "      <td>2012Q4</td>\n",
       "      <td>233.548996</td>\n",
       "    </tr>\n",
       "    <tr>\n",
       "      <th>4</th>\n",
       "      <td>2013Q1</td>\n",
       "      <td>234.541580</td>\n",
       "    </tr>\n",
       "  </tbody>\n",
       "</table>\n",
       "</div>"
      ],
      "text/plain": [
       "     Date       Wages\n",
       "0  2012Q1  230.481612\n",
       "1  2012Q2  231.518779\n",
       "2  2012Q3  232.560614\n",
       "3  2012Q4  233.548996\n",
       "4  2013Q1  234.541580"
      ]
     },
     "execution_count": 10,
     "metadata": {},
     "output_type": "execute_result"
    }
   ],
   "source": [
    "# Wages above are annualized\n",
    "# Function to make the approximately quarterly by feeding it the starting (2012Q1) CPI value of 229.392 as the baseline\n",
    "newnum = 229.392\n",
    "def process_wages(x):\n",
    "    global newnum\n",
    "    if type(x) is str:\n",
    "        return x\n",
    "    elif x:\n",
    "        newnum = (x/400) * newnum + newnum\n",
    "        return newnum\n",
    "    else:\n",
    "        return\n",
    "newwages_data = df.applymap(process_wages)\n",
    "newwages_data.head()\n"
   ]
  },
  {
   "cell_type": "code",
   "execution_count": 11,
   "id": "a81d5a84",
   "metadata": {},
   "outputs": [
    {
     "data": {
      "text/html": [
       "<div>\n",
       "<style scoped>\n",
       "    .dataframe tbody tr th:only-of-type {\n",
       "        vertical-align: middle;\n",
       "    }\n",
       "\n",
       "    .dataframe tbody tr th {\n",
       "        vertical-align: top;\n",
       "    }\n",
       "\n",
       "    .dataframe thead th {\n",
       "        text-align: right;\n",
       "    }\n",
       "</style>\n",
       "<table border=\"1\" class=\"dataframe\">\n",
       "  <thead>\n",
       "    <tr style=\"text-align: right;\">\n",
       "      <th></th>\n",
       "      <th>Date</th>\n",
       "      <th>CPI</th>\n",
       "      <th>Wages</th>\n",
       "    </tr>\n",
       "  </thead>\n",
       "  <tbody>\n",
       "    <tr>\n",
       "      <th>0</th>\n",
       "      <td>2012Q1</td>\n",
       "      <td>229.392</td>\n",
       "      <td>230.481612</td>\n",
       "    </tr>\n",
       "    <tr>\n",
       "      <th>1</th>\n",
       "      <td>2012Q2</td>\n",
       "      <td>229.478</td>\n",
       "      <td>231.518779</td>\n",
       "    </tr>\n",
       "    <tr>\n",
       "      <th>2</th>\n",
       "      <td>2012Q3</td>\n",
       "      <td>231.407</td>\n",
       "      <td>232.560614</td>\n",
       "    </tr>\n",
       "    <tr>\n",
       "      <th>3</th>\n",
       "      <td>2012Q4</td>\n",
       "      <td>229.601</td>\n",
       "      <td>233.548996</td>\n",
       "    </tr>\n",
       "    <tr>\n",
       "      <th>4</th>\n",
       "      <td>2013Q1</td>\n",
       "      <td>232.773</td>\n",
       "      <td>234.541580</td>\n",
       "    </tr>\n",
       "  </tbody>\n",
       "</table>\n",
       "</div>"
      ],
      "text/plain": [
       "     Date      CPI       Wages\n",
       "0  2012Q1  229.392  230.481612\n",
       "1  2012Q2  229.478  231.518779\n",
       "2  2012Q3  231.407  232.560614\n",
       "3  2012Q4  229.601  233.548996\n",
       "4  2013Q1  232.773  234.541580"
      ]
     },
     "execution_count": 11,
     "metadata": {},
     "output_type": "execute_result"
    }
   ],
   "source": [
    "# Merge the data to a single dataframe\n",
    "merged_data = pd.merge(newcpi_data, newwages_data, on = 'Date')\n",
    "merged_data.head()"
   ]
  },
  {
   "cell_type": "code",
   "execution_count": 12,
   "id": "ccea0e0d",
   "metadata": {},
   "outputs": [
    {
     "data": {
      "image/png": "[encoded data removed]",
      "text/plain": [
       "<Figure size 432x288 with 1 Axes>"
      ]
     },
     "metadata": {
      "needs_background": "light"
     },
     "output_type": "display_data"
    }
   ],
   "source": [
    "# Plot the data\n",
    "ax = merged_data.plot(kind='line')\n",
    "ax.set_ylabel('CPI vs. Wages and Salaries - 12 Month Change')\n",
    "ax.set_xlabel('Dates')\n",
    "ax.grid()"
   ]
  },
  {
   "cell_type": "code",
   "execution_count": 13,
   "id": "15f8b168",
   "metadata": {},
   "outputs": [
    {
     "data": {
      "text/plain": [
       "date\n",
       "2012-01    130.944\n",
       "2012-02    131.026\n",
       "2012-03    131.235\n",
       "2012-04    131.392\n",
       "2012-05    131.569\n",
       "            ...   \n",
       "2021-06    163.678\n",
       "2021-07    164.404\n",
       "2021-08    164.855\n",
       "2021-09    165.642\n",
       "2021-10    166.528\n",
       "Freq: M, Name: SUUR0000SAH, Length: 118, dtype: float64"
      ]
     },
     "execution_count": 13,
     "metadata": {},
     "output_type": "execute_result"
    }
   ],
   "source": [
    "# Get the housing data for the time period\n",
    "housing = bls.get_series('SUUR0000SAH')\n",
    "housing.to_csv('housing_index.csv')\n",
    "housing"
   ]
  },
  {
   "cell_type": "code",
   "execution_count": 14,
   "id": "3e44fc8d",
   "metadata": {},
   "outputs": [
    {
     "data": {
      "text/html": [
       "<div>\n",
       "<style scoped>\n",
       "    .dataframe tbody tr th:only-of-type {\n",
       "        vertical-align: middle;\n",
       "    }\n",
       "\n",
       "    .dataframe tbody tr th {\n",
       "        vertical-align: top;\n",
       "    }\n",
       "\n",
       "    .dataframe thead th {\n",
       "        text-align: right;\n",
       "    }\n",
       "</style>\n",
       "<table border=\"1\" class=\"dataframe\">\n",
       "  <thead>\n",
       "    <tr style=\"text-align: right;\">\n",
       "      <th></th>\n",
       "      <th>Date</th>\n",
       "      <th>Housing Index</th>\n",
       "    </tr>\n",
       "  </thead>\n",
       "  <tbody>\n",
       "    <tr>\n",
       "      <th>0</th>\n",
       "      <td>2012-01</td>\n",
       "      <td>130.944</td>\n",
       "    </tr>\n",
       "    <tr>\n",
       "      <th>1</th>\n",
       "      <td>2012-02</td>\n",
       "      <td>131.026</td>\n",
       "    </tr>\n",
       "    <tr>\n",
       "      <th>2</th>\n",
       "      <td>2012-03</td>\n",
       "      <td>131.235</td>\n",
       "    </tr>\n",
       "    <tr>\n",
       "      <th>3</th>\n",
       "      <td>2012-04</td>\n",
       "      <td>131.392</td>\n",
       "    </tr>\n",
       "    <tr>\n",
       "      <th>4</th>\n",
       "      <td>2012-05</td>\n",
       "      <td>131.569</td>\n",
       "    </tr>\n",
       "  </tbody>\n",
       "</table>\n",
       "</div>"
      ],
      "text/plain": [
       "      Date  Housing Index\n",
       "0  2012-01        130.944\n",
       "1  2012-02        131.026\n",
       "2  2012-03        131.235\n",
       "3  2012-04        131.392\n",
       "4  2012-05        131.569"
      ]
     },
     "execution_count": 14,
     "metadata": {},
     "output_type": "execute_result"
    }
   ],
   "source": [
    "# Read the CSV file and add column headers\n",
    "housing_data = pd.read_csv('housing_index.csv')\n",
    "housing_data.columns = 'Date', \"Housing Index\"\n",
    "housing_data.head()"
   ]
  },
  {
   "cell_type": "code",
   "execution_count": 15,
   "id": "53528133",
   "metadata": {},
   "outputs": [
    {
     "data": {
      "text/plain": [
       "0      2012-01\n",
       "1      2012-02\n",
       "2       2012Q1\n",
       "3      2012-04\n",
       "4      2012-05\n",
       "        ...   \n",
       "113     2021Q2\n",
       "114    2021-07\n",
       "115    2021-08\n",
       "116     2021Q3\n",
       "117    2021-10\n",
       "Name: Date, Length: 118, dtype: object"
      ]
     },
     "execution_count": 15,
     "metadata": {},
     "output_type": "execute_result"
    }
   ],
   "source": [
    "# Replace Mar, Jun, Sept, Dec with Qtr\n",
    "housing_data['Date'] = housing_data['Date'].str.replace('-03', 'Q1')\n",
    "housing_data['Date'] = housing_data['Date'].str.replace('-06', 'Q2')\n",
    "housing_data['Date'] = housing_data['Date'].str.replace('-09', 'Q3')\n",
    "housing_data['Date'] = housing_data['Date'].str.replace('-12', 'Q4')\n",
    "housing_data[\"Date\"]"
   ]
  },
  {
   "cell_type": "code",
   "execution_count": 16,
   "id": "b26e42df",
   "metadata": {},
   "outputs": [
    {
     "data": {
      "text/html": [
       "<div>\n",
       "<style scoped>\n",
       "    .dataframe tbody tr th:only-of-type {\n",
       "        vertical-align: middle;\n",
       "    }\n",
       "\n",
       "    .dataframe tbody tr th {\n",
       "        vertical-align: top;\n",
       "    }\n",
       "\n",
       "    .dataframe thead th {\n",
       "        text-align: right;\n",
       "    }\n",
       "</style>\n",
       "<table border=\"1\" class=\"dataframe\">\n",
       "  <thead>\n",
       "    <tr style=\"text-align: right;\">\n",
       "      <th></th>\n",
       "      <th>Date</th>\n",
       "      <th>Housing Index</th>\n",
       "    </tr>\n",
       "  </thead>\n",
       "  <tbody>\n",
       "    <tr>\n",
       "      <th>2</th>\n",
       "      <td>2012Q1</td>\n",
       "      <td>131.235</td>\n",
       "    </tr>\n",
       "    <tr>\n",
       "      <th>5</th>\n",
       "      <td>2012Q2</td>\n",
       "      <td>132.227</td>\n",
       "    </tr>\n",
       "    <tr>\n",
       "      <th>8</th>\n",
       "      <td>2012Q3</td>\n",
       "      <td>132.540</td>\n",
       "    </tr>\n",
       "    <tr>\n",
       "      <th>11</th>\n",
       "      <td>2012Q4</td>\n",
       "      <td>132.617</td>\n",
       "    </tr>\n",
       "    <tr>\n",
       "      <th>14</th>\n",
       "      <td>2013Q1</td>\n",
       "      <td>133.520</td>\n",
       "    </tr>\n",
       "  </tbody>\n",
       "</table>\n",
       "</div>"
      ],
      "text/plain": [
       "      Date  Housing Index\n",
       "2   2012Q1        131.235\n",
       "5   2012Q2        132.227\n",
       "8   2012Q3        132.540\n",
       "11  2012Q4        132.617\n",
       "14  2013Q1        133.520"
      ]
     },
     "execution_count": 16,
     "metadata": {},
     "output_type": "execute_result"
    }
   ],
   "source": [
    "# Get only quarterly info\n",
    "newhousing_data = housing_data[(housing_data.Date.str.contains(\"-\")==False)]\n",
    "newhousing_data.head()"
   ]
  },
  {
   "cell_type": "code",
   "execution_count": 17,
   "id": "9177fbfa",
   "metadata": {},
   "outputs": [],
   "source": [
    "# Write this data to CSV file\n",
    "housing_data.to_csv('housing-clean.csv')"
   ]
  },
  {
   "cell_type": "code",
   "execution_count": 18,
   "id": "0a51f1cb",
   "metadata": {},
   "outputs": [
    {
     "data": {
      "text/html": [
       "<div>\n",
       "<style scoped>\n",
       "    .dataframe tbody tr th:only-of-type {\n",
       "        vertical-align: middle;\n",
       "    }\n",
       "\n",
       "    .dataframe tbody tr th {\n",
       "        vertical-align: top;\n",
       "    }\n",
       "\n",
       "    .dataframe thead th {\n",
       "        text-align: right;\n",
       "    }\n",
       "</style>\n",
       "<table border=\"1\" class=\"dataframe\">\n",
       "  <thead>\n",
       "    <tr style=\"text-align: right;\">\n",
       "      <th></th>\n",
       "      <th>Date</th>\n",
       "      <th>Wages</th>\n",
       "      <th>Housing Index</th>\n",
       "    </tr>\n",
       "  </thead>\n",
       "  <tbody>\n",
       "    <tr>\n",
       "      <th>0</th>\n",
       "      <td>2012Q1</td>\n",
       "      <td>230.481612</td>\n",
       "      <td>131.235</td>\n",
       "    </tr>\n",
       "    <tr>\n",
       "      <th>1</th>\n",
       "      <td>2012Q2</td>\n",
       "      <td>231.518779</td>\n",
       "      <td>132.227</td>\n",
       "    </tr>\n",
       "    <tr>\n",
       "      <th>2</th>\n",
       "      <td>2012Q3</td>\n",
       "      <td>232.560614</td>\n",
       "      <td>132.540</td>\n",
       "    </tr>\n",
       "    <tr>\n",
       "      <th>3</th>\n",
       "      <td>2012Q4</td>\n",
       "      <td>233.548996</td>\n",
       "      <td>132.617</td>\n",
       "    </tr>\n",
       "    <tr>\n",
       "      <th>4</th>\n",
       "      <td>2013Q1</td>\n",
       "      <td>234.541580</td>\n",
       "      <td>133.520</td>\n",
       "    </tr>\n",
       "  </tbody>\n",
       "</table>\n",
       "</div>"
      ],
      "text/plain": [
       "     Date       Wages  Housing Index\n",
       "0  2012Q1  230.481612        131.235\n",
       "1  2012Q2  231.518779        132.227\n",
       "2  2012Q3  232.560614        132.540\n",
       "3  2012Q4  233.548996        132.617\n",
       "4  2013Q1  234.541580        133.520"
      ]
     },
     "execution_count": 18,
     "metadata": {},
     "output_type": "execute_result"
    }
   ],
   "source": [
    "# Merge the housing data with wages data\n",
    "new_merged_data = pd.merge(newwages_data, newhousing_data, on = 'Date')\n",
    "new_merged_data.head()"
   ]
  },
  {
   "cell_type": "code",
   "execution_count": 19,
   "id": "ee47937c",
   "metadata": {},
   "outputs": [
    {
     "data": {
      "image/png": "[encoded data removed]",
      "text/plain": [
       "<Figure size 432x288 with 1 Axes>"
      ]
     },
     "metadata": {
      "needs_background": "light"
     },
     "output_type": "display_data"
    }
   ],
   "source": [
    "# Plot the data\n",
    "ax = new_merged_data.plot(kind='line')\n",
    "ax.set_ylabel('Housing v Wages - 12 Month Change')\n",
    "ax.set_xlabel('Dates')\n",
    "ax.grid()"
   ]
  }
 ],
 "metadata": {
  "kernelspec": {
   "display_name": "PythonData",
   "language": "python",
   "name": "pythondata"
  },
  "language_info": {
   "codemirror_mode": {
    "name": "ipython",
    "version": 3
   },
   "file_extension": ".py",
   "mimetype": "text/x-python",
   "name": "python",
   "nbconvert_exporter": "python",
   "pygments_lexer": "ipython3",
   "version": "3.7.10"
  }
 },
 "nbformat": 4,
 "nbformat_minor": 5
}
